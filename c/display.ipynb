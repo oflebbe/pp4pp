{
 "cells": [
  {
   "cell_type": "code",
   "execution_count": null,
   "metadata": {},
   "outputs": [],
   "source": [
    "%matplotlib inline\n",
    "\n",
    "from  matplotlib import pyplot \n",
    "import numpy as np\n",
    "import codecs\n",
    "\n",
    "for pic in range(5):\n",
    "    with codecs.open(\"/tmp/pic{:02d}.txt\".format(pic), encoding='utf-8-sig') as f:\n",
    "        X= np.loadtxt(f)\n",
    "        fig = pyplot.figure(figsize=(5, 16))\n",
    "        pyplot.clf()\n",
    "        fig = pyplot.contourf(X[:, :])\n",
    "        pyplot.xlabel('Cell')\n",
    "        pyplot.ylabel('Ring')\n",
    "        pyplot.colorbar()\n",
    "        pyplot.title('title')\n",
    "        # pyplot.close()\n",
    "with codecs.open(\"/tmp/cylcon.txt\", encoding='utf-8-sig') as f:\n",
    "        X= np.loadtxt(f)\n",
    "        fig = pyplot.figure(figsize=(5, 16))\n",
    "        pyplot.clf()\n",
    "        fig = pyplot.contourf(X[:, :])\n",
    "        pyplot.xlabel('Cell')\n",
    "        pyplot.ylabel('Ring')\n",
    "        pyplot.colorbar()\n",
    "        pyplot.title('cylcon')\n",
    "        # pyplot.close()\n",
    "with codecs.open(\"/tmp/total.txt\", encoding='utf-8-sig') as f:\n",
    "        X= np.loadtxt(f)\n",
    "        fig = pyplot.figure(figsize=(5, 16))\n",
    "        pyplot.clf()\n",
    "        fig = pyplot.contourf(X[:, :])\n",
    "        pyplot.xlabel('Cell')\n",
    "        pyplot.ylabel('Ring')\n",
    "        pyplot.colorbar()\n",
    "        pyplot.title('total')\n",
    "        # pyplot.close()"
   ]
  },
  {
   "cell_type": "code",
   "execution_count": null,
   "metadata": {},
   "outputs": [],
   "source": []
  },
  {
   "cell_type": "code",
   "execution_count": null,
   "metadata": {},
   "outputs": [],
   "source": []
  }
 ],
 "metadata": {
  "kernelspec": {
   "display_name": "Python 3",
   "language": "python",
   "name": "python3"
  },
  "language_info": {
   "codemirror_mode": {
    "name": "ipython",
    "version": 3
   },
   "file_extension": ".py",
   "mimetype": "text/x-python",
   "name": "python",
   "nbconvert_exporter": "python",
   "pygments_lexer": "ipython3",
   "version": "3.6.5"
  }
 },
 "nbformat": 4,
 "nbformat_minor": 2
}
